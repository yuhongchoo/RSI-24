{
  "nbformat": 4,
  "nbformat_minor": 0,
  "metadata": {
    "colab": {
      "provenance": []
    },
    "kernelspec": {
      "name": "python3",
      "display_name": "Python 3"
    },
    "language_info": {
      "name": "python"
    }
  },
  "cells": [
    {
      "cell_type": "code",
      "source": [
        "!pip install pyedflib\n",
        "!pip install mne"
      ],
      "metadata": {
        "colab": {
          "base_uri": "https://localhost:8080/"
        },
        "id": "t5s8CjYpmLIF",
        "outputId": "8f4e0949-dbb2-44e6-b22c-c1b0830fbdc1"
      },
      "execution_count": null,
      "outputs": [
        {
          "output_type": "stream",
          "name": "stdout",
          "text": [
            "Requirement already satisfied: pyedflib in /usr/local/lib/python3.10/dist-packages (0.1.37)\n",
            "Requirement already satisfied: numpy>=1.9.1 in /usr/local/lib/python3.10/dist-packages (from pyedflib) (1.25.2)\n",
            "Requirement already satisfied: mne in /usr/local/lib/python3.10/dist-packages (1.7.1)\n",
            "Requirement already satisfied: decorator in /usr/local/lib/python3.10/dist-packages (from mne) (4.4.2)\n",
            "Requirement already satisfied: jinja2 in /usr/local/lib/python3.10/dist-packages (from mne) (3.1.4)\n",
            "Requirement already satisfied: lazy-loader>=0.3 in /usr/local/lib/python3.10/dist-packages (from mne) (0.4)\n",
            "Requirement already satisfied: matplotlib>=3.5.0 in /usr/local/lib/python3.10/dist-packages (from mne) (3.7.1)\n",
            "Requirement already satisfied: numpy>=1.21.2 in /usr/local/lib/python3.10/dist-packages (from mne) (1.25.2)\n",
            "Requirement already satisfied: packaging in /usr/local/lib/python3.10/dist-packages (from mne) (24.1)\n",
            "Requirement already satisfied: pooch>=1.5 in /usr/local/lib/python3.10/dist-packages (from mne) (1.8.2)\n",
            "Requirement already satisfied: scipy>=1.7.1 in /usr/local/lib/python3.10/dist-packages (from mne) (1.11.4)\n",
            "Requirement already satisfied: tqdm in /usr/local/lib/python3.10/dist-packages (from mne) (4.66.4)\n",
            "Requirement already satisfied: contourpy>=1.0.1 in /usr/local/lib/python3.10/dist-packages (from matplotlib>=3.5.0->mne) (1.2.1)\n",
            "Requirement already satisfied: cycler>=0.10 in /usr/local/lib/python3.10/dist-packages (from matplotlib>=3.5.0->mne) (0.12.1)\n",
            "Requirement already satisfied: fonttools>=4.22.0 in /usr/local/lib/python3.10/dist-packages (from matplotlib>=3.5.0->mne) (4.53.1)\n",
            "Requirement already satisfied: kiwisolver>=1.0.1 in /usr/local/lib/python3.10/dist-packages (from matplotlib>=3.5.0->mne) (1.4.5)\n",
            "Requirement already satisfied: pillow>=6.2.0 in /usr/local/lib/python3.10/dist-packages (from matplotlib>=3.5.0->mne) (9.4.0)\n",
            "Requirement already satisfied: pyparsing>=2.3.1 in /usr/local/lib/python3.10/dist-packages (from matplotlib>=3.5.0->mne) (3.1.2)\n",
            "Requirement already satisfied: python-dateutil>=2.7 in /usr/local/lib/python3.10/dist-packages (from matplotlib>=3.5.0->mne) (2.8.2)\n",
            "Requirement already satisfied: platformdirs>=2.5.0 in /usr/local/lib/python3.10/dist-packages (from pooch>=1.5->mne) (4.2.2)\n",
            "Requirement already satisfied: requests>=2.19.0 in /usr/local/lib/python3.10/dist-packages (from pooch>=1.5->mne) (2.31.0)\n",
            "Requirement already satisfied: MarkupSafe>=2.0 in /usr/local/lib/python3.10/dist-packages (from jinja2->mne) (2.1.5)\n",
            "Requirement already satisfied: six>=1.5 in /usr/local/lib/python3.10/dist-packages (from python-dateutil>=2.7->matplotlib>=3.5.0->mne) (1.16.0)\n",
            "Requirement already satisfied: charset-normalizer<4,>=2 in /usr/local/lib/python3.10/dist-packages (from requests>=2.19.0->pooch>=1.5->mne) (3.3.2)\n",
            "Requirement already satisfied: idna<4,>=2.5 in /usr/local/lib/python3.10/dist-packages (from requests>=2.19.0->pooch>=1.5->mne) (3.7)\n",
            "Requirement already satisfied: urllib3<3,>=1.21.1 in /usr/local/lib/python3.10/dist-packages (from requests>=2.19.0->pooch>=1.5->mne) (2.0.7)\n",
            "Requirement already satisfied: certifi>=2017.4.17 in /usr/local/lib/python3.10/dist-packages (from requests>=2.19.0->pooch>=1.5->mne) (2024.7.4)\n"
          ]
        }
      ]
    },
    {
      "cell_type": "code",
      "execution_count": null,
      "metadata": {
        "id": "bQ8GRPKC7A-W"
      },
      "outputs": [],
      "source": [
        "import csv\n",
        "import mne\n",
        "import pyedflib\n",
        "import pandas as pd\n",
        "import numpy as np\n",
        "from sklearn.model_selection import train_test_split\n",
        "from keras.models import Sequential\n",
        "from keras.layers import LSTM, Dense\n",
        "from keras.utils import to_categorical"
      ]
    },
    {
      "cell_type": "code",
      "source": [
        "df = pd.read_csv('/content/LSTM dataset.csv') #preprocessed dataset\n",
        "feature_columns = ['Fc5.', 'Fc3.', 'Fc1.', 'Fcz.', 'Fc2.', 'Fc4.', 'Fc6.', 'C5..', 'C3..', 'C1..', 'Cz..', 'C2..', 'C4..', 'C6..', 'Cp5.', 'Cp3.', 'Cp1.', 'Cpz.', 'Cp2.', 'Cp4.', 'Cp6.', 'Fp1.', 'Fpz.', 'Fp2.', 'Af7.', 'Af3.', 'Afz.', 'Af4.', 'Af8.', 'F7..', 'F5..', 'F3..', 'F1..', 'Fz..', 'F2..', 'F4..', 'F6..', 'F8..', 'Ft7.', 'Ft8.', 'T7..', 'T8..', 'T9..', 'T10.', 'Tp7.', 'Tp8.', 'P7..', 'P5..', 'P3..', 'P1..', 'Pz..', 'P2..', 'P4..', 'P6..', 'P8..', 'Po7.', 'Po3.', 'Poz.', 'Po4.', 'Po8.', 'O1..', 'Oz..', 'O2..', 'Iz..']\n",
        "x = df[feature_columns].values\n",
        "y = df['label'].values\n",
        "#x are the features, y are the labels for the 3 classes"
      ],
      "metadata": {
        "id": "2uQ-81R3wrT0"
      },
      "execution_count": null,
      "outputs": []
    },
    {
      "cell_type": "code",
      "source": [
        "y_categorical = to_categorical(y)"
      ],
      "metadata": {
        "id": "scy2LfuKGxhU"
      },
      "execution_count": null,
      "outputs": []
    },
    {
      "cell_type": "code",
      "source": [
        "#creating a sequence\n",
        "def create_sequences(data, targets, seq_length):\n",
        "    X, y = [], []\n",
        "    for i in range(len(data) - seq_length):\n",
        "        X.append(data[i:(i + seq_length), :])\n",
        "        y.append(targets[i + seq_length])\n",
        "    return np.array(X), np.array(y)"
      ],
      "metadata": {
        "id": "gz74EetFG1C_"
      },
      "execution_count": null,
      "outputs": []
    },
    {
      "cell_type": "code",
      "source": [
        "seq_length = 10\n",
        "X_seq, y_seq = create_sequences(x, y_categorical, seq_length)"
      ],
      "metadata": {
        "id": "am9qQpWkHSip"
      },
      "execution_count": null,
      "outputs": []
    },
    {
      "cell_type": "code",
      "source": [
        "X_train, X_test, y_train, y_test = train_test_split(X_seq, y_seq, test_size=0.2, random_state=42)\n",
        "#splitting up the dataset into training sets and testing sets"
      ],
      "metadata": {
        "id": "IQ-9qLB9Hm4J"
      },
      "execution_count": null,
      "outputs": []
    },
    {
      "cell_type": "code",
      "source": [
        "#LSTM model\n",
        "model = Sequential()\n",
        "model.add(LSTM(50, activation='relu', input_shape=(seq_length, x.shape[1])))\n",
        "model.add(Dense(3, activation='softmax'))  # 3 output neurons for 3 classes\n",
        "model.compile(optimizer='adam', loss='categorical_crossentropy', metrics=['accuracy'])"
      ],
      "metadata": {
        "id": "1UigdOa7HsU8"
      },
      "execution_count": null,
      "outputs": []
    },
    {
      "cell_type": "code",
      "source": [
        "#training the model\n",
        "history = model.fit(X_train, y_train, epochs=100, batch_size=32,\n",
        "                    validation_data=(X_test, y_test), verbose=1)"
      ],
      "metadata": {
        "colab": {
          "base_uri": "https://localhost:8080/"
        },
        "id": "r29rgEVUHwHB",
        "outputId": "57b09121-c2b8-45c7-b22d-53db6f9e636d"
      },
      "execution_count": null,
      "outputs": [
        {
          "output_type": "stream",
          "name": "stdout",
          "text": [
            "Epoch 1/100\n",
            "498/498 [==============================] - 9s 12ms/step - loss: 14.3750 - accuracy: 0.4556 - val_loss: 3.7668 - val_accuracy: 0.4895\n",
            "Epoch 2/100\n",
            "498/498 [==============================] - 5s 9ms/step - loss: 2.1871 - accuracy: 0.5178 - val_loss: 1.4767 - val_accuracy: 0.5354\n",
            "Epoch 3/100\n",
            "498/498 [==============================] - 4s 8ms/step - loss: 1.1219 - accuracy: 0.5687 - val_loss: 1.1064 - val_accuracy: 0.5530\n",
            "Epoch 4/100\n",
            "498/498 [==============================] - 6s 11ms/step - loss: 0.9452 - accuracy: 0.5887 - val_loss: 0.9642 - val_accuracy: 0.5824\n",
            "Epoch 5/100\n",
            "498/498 [==============================] - 4s 9ms/step - loss: 0.8567 - accuracy: 0.6190 - val_loss: 0.8771 - val_accuracy: 0.6120\n",
            "Epoch 6/100\n",
            "498/498 [==============================] - 4s 9ms/step - loss: 0.7869 - accuracy: 0.6489 - val_loss: 0.8120 - val_accuracy: 0.6469\n",
            "Epoch 7/100\n",
            "498/498 [==============================] - 6s 12ms/step - loss: 0.7269 - accuracy: 0.6823 - val_loss: 0.7805 - val_accuracy: 0.6723\n",
            "Epoch 8/100\n",
            "498/498 [==============================] - 4s 9ms/step - loss: 0.6694 - accuracy: 0.7066 - val_loss: 0.6950 - val_accuracy: 0.7074\n",
            "Epoch 9/100\n",
            "498/498 [==============================] - 4s 8ms/step - loss: 0.6210 - accuracy: 0.7357 - val_loss: 0.6436 - val_accuracy: 0.7351\n",
            "Epoch 10/100\n",
            "498/498 [==============================] - 6s 12ms/step - loss: 0.5662 - accuracy: 0.7667 - val_loss: 0.6107 - val_accuracy: 0.7587\n",
            "Epoch 11/100\n",
            "498/498 [==============================] - 4s 9ms/step - loss: 0.5120 - accuracy: 0.7894 - val_loss: 0.5104 - val_accuracy: 0.8011\n",
            "Epoch 12/100\n",
            "498/498 [==============================] - 5s 9ms/step - loss: 0.4526 - accuracy: 0.8160 - val_loss: 0.4484 - val_accuracy: 0.8262\n",
            "Epoch 13/100\n",
            "498/498 [==============================] - 7s 15ms/step - loss: 0.4344 - accuracy: 0.8290 - val_loss: 0.4294 - val_accuracy: 0.8307\n",
            "Epoch 14/100\n",
            "498/498 [==============================] - 6s 11ms/step - loss: 0.3737 - accuracy: 0.8540 - val_loss: 0.4303 - val_accuracy: 0.8260\n",
            "Epoch 15/100\n",
            "498/498 [==============================] - 6s 12ms/step - loss: 0.4720 - accuracy: 0.8298 - val_loss: 0.5256 - val_accuracy: 0.7722\n",
            "Epoch 16/100\n",
            "498/498 [==============================] - 4s 8ms/step - loss: 0.4535 - accuracy: 0.8184 - val_loss: 0.4153 - val_accuracy: 0.8350\n",
            "Epoch 17/100\n",
            "498/498 [==============================] - 5s 10ms/step - loss: 0.3396 - accuracy: 0.8685 - val_loss: 0.3757 - val_accuracy: 0.8569\n",
            "Epoch 18/100\n",
            "498/498 [==============================] - 6s 12ms/step - loss: 0.3076 - accuracy: 0.8850 - val_loss: 0.4252 - val_accuracy: 0.8704\n",
            "Epoch 19/100\n",
            "498/498 [==============================] - 4s 8ms/step - loss: 0.3029 - accuracy: 0.8891 - val_loss: 0.3114 - val_accuracy: 0.8905\n",
            "Epoch 20/100\n",
            "498/498 [==============================] - 4s 9ms/step - loss: 0.2674 - accuracy: 0.9032 - val_loss: 0.3375 - val_accuracy: 0.8840\n",
            "Epoch 21/100\n",
            "498/498 [==============================] - 6s 11ms/step - loss: 0.4099 - accuracy: 0.8685 - val_loss: 0.3131 - val_accuracy: 0.8893\n",
            "Epoch 22/100\n",
            "498/498 [==============================] - 4s 9ms/step - loss: 0.2965 - accuracy: 0.8923 - val_loss: 0.3711 - val_accuracy: 0.8719\n",
            "Epoch 23/100\n",
            "498/498 [==============================] - 4s 8ms/step - loss: 0.2455 - accuracy: 0.9080 - val_loss: 0.2500 - val_accuracy: 0.9066\n",
            "Epoch 24/100\n",
            "498/498 [==============================] - 6s 12ms/step - loss: 0.2555 - accuracy: 0.9088 - val_loss: 0.2736 - val_accuracy: 0.9061\n",
            "Epoch 25/100\n",
            "498/498 [==============================] - 4s 9ms/step - loss: 0.2340 - accuracy: 0.9199 - val_loss: 0.2235 - val_accuracy: 0.9189\n",
            "Epoch 26/100\n",
            "498/498 [==============================] - 4s 9ms/step - loss: 0.2169 - accuracy: 0.9222 - val_loss: 0.3356 - val_accuracy: 0.8898\n",
            "Epoch 27/100\n",
            "498/498 [==============================] - 6s 12ms/step - loss: 0.2392 - accuracy: 0.9149 - val_loss: 0.2172 - val_accuracy: 0.9284\n",
            "Epoch 28/100\n",
            "498/498 [==============================] - 4s 9ms/step - loss: 0.2006 - accuracy: 0.9265 - val_loss: 0.2351 - val_accuracy: 0.9159\n",
            "Epoch 29/100\n",
            "498/498 [==============================] - 4s 8ms/step - loss: 0.1795 - accuracy: 0.9402 - val_loss: 0.2595 - val_accuracy: 0.9131\n",
            "Epoch 30/100\n",
            "498/498 [==============================] - 6s 11ms/step - loss: 0.2153 - accuracy: 0.9279 - val_loss: 0.2039 - val_accuracy: 0.9360\n",
            "Epoch 31/100\n",
            "498/498 [==============================] - 6s 12ms/step - loss: 0.2173 - accuracy: 0.9206 - val_loss: 0.2511 - val_accuracy: 0.9119\n",
            "Epoch 32/100\n",
            "498/498 [==============================] - 7s 14ms/step - loss: 0.1842 - accuracy: 0.9362 - val_loss: 0.1848 - val_accuracy: 0.9324\n",
            "Epoch 33/100\n",
            "498/498 [==============================] - 4s 9ms/step - loss: 0.1629 - accuracy: 0.9427 - val_loss: 0.1736 - val_accuracy: 0.9420\n",
            "Epoch 34/100\n",
            "498/498 [==============================] - 4s 9ms/step - loss: 0.1802 - accuracy: 0.9393 - val_loss: 0.2030 - val_accuracy: 0.9287\n",
            "Epoch 35/100\n",
            "498/498 [==============================] - 6s 12ms/step - loss: 0.2419 - accuracy: 0.9202 - val_loss: 0.4760 - val_accuracy: 0.8561\n",
            "Epoch 36/100\n",
            "498/498 [==============================] - 4s 9ms/step - loss: 0.2251 - accuracy: 0.9195 - val_loss: 0.1962 - val_accuracy: 0.9317\n",
            "Epoch 37/100\n",
            "498/498 [==============================] - 5s 9ms/step - loss: 0.2490 - accuracy: 0.9211 - val_loss: 0.1948 - val_accuracy: 0.9269\n",
            "Epoch 38/100\n",
            "498/498 [==============================] - 6s 11ms/step - loss: 0.1626 - accuracy: 0.9432 - val_loss: 0.1711 - val_accuracy: 0.9360\n",
            "Epoch 39/100\n",
            "498/498 [==============================] - 4s 9ms/step - loss: 0.1452 - accuracy: 0.9480 - val_loss: 0.1683 - val_accuracy: 0.9370\n",
            "Epoch 40/100\n",
            "498/498 [==============================] - 4s 9ms/step - loss: 0.1809 - accuracy: 0.9395 - val_loss: 0.2135 - val_accuracy: 0.9247\n",
            "Epoch 41/100\n",
            "498/498 [==============================] - 6s 11ms/step - loss: 0.1439 - accuracy: 0.9508 - val_loss: 0.1850 - val_accuracy: 0.9375\n",
            "Epoch 42/100\n",
            "498/498 [==============================] - 4s 9ms/step - loss: 0.1592 - accuracy: 0.9457 - val_loss: 0.1572 - val_accuracy: 0.9493\n",
            "Epoch 43/100\n",
            "498/498 [==============================] - 5s 10ms/step - loss: 0.1210 - accuracy: 0.9589 - val_loss: 0.2644 - val_accuracy: 0.9370\n",
            "Epoch 44/100\n",
            "498/498 [==============================] - 5s 11ms/step - loss: 0.1522 - accuracy: 0.9505 - val_loss: 0.2985 - val_accuracy: 0.8918\n",
            "Epoch 45/100\n",
            "498/498 [==============================] - 4s 9ms/step - loss: 0.1691 - accuracy: 0.9400 - val_loss: 0.1481 - val_accuracy: 0.9473\n",
            "Epoch 46/100\n",
            "498/498 [==============================] - 5s 10ms/step - loss: 0.1220 - accuracy: 0.9584 - val_loss: 0.1720 - val_accuracy: 0.9427\n",
            "Epoch 47/100\n",
            "498/498 [==============================] - 5s 11ms/step - loss: 0.1397 - accuracy: 0.9514 - val_loss: 0.1627 - val_accuracy: 0.9448\n",
            "Epoch 48/100\n",
            "498/498 [==============================] - 4s 9ms/step - loss: 0.1258 - accuracy: 0.9574 - val_loss: 0.1785 - val_accuracy: 0.9435\n",
            "Epoch 49/100\n",
            "498/498 [==============================] - 5s 10ms/step - loss: 0.1161 - accuracy: 0.9591 - val_loss: 0.1244 - val_accuracy: 0.9561\n",
            "Epoch 50/100\n",
            "498/498 [==============================] - 5s 11ms/step - loss: 0.1124 - accuracy: 0.9611 - val_loss: 0.1942 - val_accuracy: 0.9420\n",
            "Epoch 51/100\n",
            "498/498 [==============================] - 4s 9ms/step - loss: 0.1675 - accuracy: 0.9451 - val_loss: 0.1679 - val_accuracy: 0.9442\n",
            "Epoch 52/100\n",
            "498/498 [==============================] - 6s 12ms/step - loss: 0.1229 - accuracy: 0.9575 - val_loss: 0.1344 - val_accuracy: 0.9545\n",
            "Epoch 53/100\n",
            "498/498 [==============================] - 4s 9ms/step - loss: 0.1154 - accuracy: 0.9596 - val_loss: 0.2104 - val_accuracy: 0.9385\n",
            "Epoch 54/100\n",
            "498/498 [==============================] - 4s 9ms/step - loss: 0.1549 - accuracy: 0.9508 - val_loss: 0.1370 - val_accuracy: 0.9561\n",
            "Epoch 55/100\n",
            "498/498 [==============================] - 6s 12ms/step - loss: 0.1171 - accuracy: 0.9608 - val_loss: 0.1188 - val_accuracy: 0.9598\n",
            "Epoch 56/100\n",
            "498/498 [==============================] - 4s 8ms/step - loss: 0.1084 - accuracy: 0.9645 - val_loss: 0.1809 - val_accuracy: 0.9412\n",
            "Epoch 57/100\n",
            "498/498 [==============================] - 4s 9ms/step - loss: 0.1337 - accuracy: 0.9564 - val_loss: 0.1352 - val_accuracy: 0.9550\n",
            "Epoch 58/100\n",
            "498/498 [==============================] - 7s 14ms/step - loss: 0.1191 - accuracy: 0.9594 - val_loss: 0.1453 - val_accuracy: 0.9498\n",
            "Epoch 59/100\n",
            "498/498 [==============================] - 4s 9ms/step - loss: 0.1378 - accuracy: 0.9599 - val_loss: 0.2367 - val_accuracy: 0.9317\n",
            "Epoch 60/100\n",
            "498/498 [==============================] - 5s 9ms/step - loss: 0.1416 - accuracy: 0.9506 - val_loss: 0.1290 - val_accuracy: 0.9593\n",
            "Epoch 61/100\n",
            "498/498 [==============================] - 6s 11ms/step - loss: 0.1593 - accuracy: 0.9485 - val_loss: 0.1561 - val_accuracy: 0.9485\n",
            "Epoch 62/100\n",
            "498/498 [==============================] - 5s 9ms/step - loss: 0.1114 - accuracy: 0.9615 - val_loss: 0.1375 - val_accuracy: 0.9515\n",
            "Epoch 63/100\n",
            "498/498 [==============================] - 5s 10ms/step - loss: 0.1188 - accuracy: 0.9605 - val_loss: 0.1177 - val_accuracy: 0.9591\n",
            "Epoch 64/100\n",
            "498/498 [==============================] - 5s 10ms/step - loss: 0.1053 - accuracy: 0.9653 - val_loss: 0.1166 - val_accuracy: 0.9613\n",
            "Epoch 65/100\n",
            "498/498 [==============================] - 4s 9ms/step - loss: 0.0967 - accuracy: 0.9671 - val_loss: 0.1141 - val_accuracy: 0.9661\n",
            "Epoch 66/100\n",
            "498/498 [==============================] - 6s 12ms/step - loss: 0.1143 - accuracy: 0.9620 - val_loss: 0.1362 - val_accuracy: 0.9598\n",
            "Epoch 67/100\n",
            "498/498 [==============================] - 4s 9ms/step - loss: 0.0793 - accuracy: 0.9723 - val_loss: 0.1340 - val_accuracy: 0.9576\n",
            "Epoch 68/100\n",
            "498/498 [==============================] - 4s 8ms/step - loss: 0.1038 - accuracy: 0.9646 - val_loss: 0.1314 - val_accuracy: 0.9520\n",
            "Epoch 69/100\n",
            "498/498 [==============================] - 6s 12ms/step - loss: 0.1054 - accuracy: 0.9636 - val_loss: 0.1868 - val_accuracy: 0.9478\n",
            "Epoch 70/100\n",
            "498/498 [==============================] - 4s 9ms/step - loss: 0.1125 - accuracy: 0.9609 - val_loss: 0.1358 - val_accuracy: 0.9545\n",
            "Epoch 71/100\n",
            "498/498 [==============================] - 4s 9ms/step - loss: 0.1762 - accuracy: 0.9475 - val_loss: 0.1947 - val_accuracy: 0.9312\n",
            "Epoch 72/100\n",
            "498/498 [==============================] - 6s 12ms/step - loss: 0.1169 - accuracy: 0.9582 - val_loss: 0.1444 - val_accuracy: 0.9523\n",
            "Epoch 73/100\n",
            "498/498 [==============================] - 4s 9ms/step - loss: 0.0923 - accuracy: 0.9669 - val_loss: 0.1757 - val_accuracy: 0.9515\n",
            "Epoch 74/100\n",
            "498/498 [==============================] - 5s 10ms/step - loss: 0.1045 - accuracy: 0.9658 - val_loss: 0.1488 - val_accuracy: 0.9513\n",
            "Epoch 75/100\n",
            "498/498 [==============================] - 6s 12ms/step - loss: 0.0997 - accuracy: 0.9654 - val_loss: 0.1120 - val_accuracy: 0.9636\n",
            "Epoch 76/100\n",
            "498/498 [==============================] - 5s 9ms/step - loss: 0.0987 - accuracy: 0.9674 - val_loss: 0.1421 - val_accuracy: 0.9523\n",
            "Epoch 77/100\n",
            "498/498 [==============================] - 4s 8ms/step - loss: 0.1233 - accuracy: 0.9571 - val_loss: 0.1525 - val_accuracy: 0.9515\n",
            "Epoch 78/100\n",
            "498/498 [==============================] - 6s 12ms/step - loss: 0.0952 - accuracy: 0.9660 - val_loss: 0.1245 - val_accuracy: 0.9593\n",
            "Epoch 79/100\n",
            "498/498 [==============================] - 5s 9ms/step - loss: 0.0699 - accuracy: 0.9751 - val_loss: 0.1209 - val_accuracy: 0.9618\n",
            "Epoch 80/100\n",
            "498/498 [==============================] - 4s 9ms/step - loss: 0.1441 - accuracy: 0.9564 - val_loss: 0.1781 - val_accuracy: 0.9355\n",
            "Epoch 81/100\n",
            "498/498 [==============================] - 6s 12ms/step - loss: 0.0905 - accuracy: 0.9683 - val_loss: 0.1037 - val_accuracy: 0.9663\n",
            "Epoch 82/100\n",
            "498/498 [==============================] - 4s 8ms/step - loss: 0.0899 - accuracy: 0.9682 - val_loss: 0.1136 - val_accuracy: 0.9621\n",
            "Epoch 83/100\n",
            "498/498 [==============================] - 4s 9ms/step - loss: 0.1262 - accuracy: 0.9583 - val_loss: 0.1690 - val_accuracy: 0.9478\n",
            "Epoch 84/100\n",
            "498/498 [==============================] - 6s 11ms/step - loss: 0.0921 - accuracy: 0.9675 - val_loss: 0.1017 - val_accuracy: 0.9646\n",
            "Epoch 85/100\n",
            "498/498 [==============================] - 4s 9ms/step - loss: 0.1049 - accuracy: 0.9652 - val_loss: 0.1304 - val_accuracy: 0.9578\n",
            "Epoch 86/100\n",
            "498/498 [==============================] - 5s 9ms/step - loss: 0.0800 - accuracy: 0.9714 - val_loss: 0.0873 - val_accuracy: 0.9686\n",
            "Epoch 87/100\n",
            "498/498 [==============================] - 5s 11ms/step - loss: 0.0941 - accuracy: 0.9680 - val_loss: 0.1412 - val_accuracy: 0.9495\n",
            "Epoch 88/100\n",
            "498/498 [==============================] - 4s 9ms/step - loss: 0.1007 - accuracy: 0.9659 - val_loss: 0.1011 - val_accuracy: 0.9661\n",
            "Epoch 89/100\n",
            "498/498 [==============================] - 4s 9ms/step - loss: 0.0705 - accuracy: 0.9739 - val_loss: 0.0841 - val_accuracy: 0.9699\n",
            "Epoch 90/100\n",
            "498/498 [==============================] - 6s 11ms/step - loss: 0.0634 - accuracy: 0.9762 - val_loss: 0.0958 - val_accuracy: 0.9658\n",
            "Epoch 91/100\n",
            "498/498 [==============================] - 4s 8ms/step - loss: 0.1740 - accuracy: 0.9422 - val_loss: 0.2351 - val_accuracy: 0.9179\n",
            "Epoch 92/100\n",
            "498/498 [==============================] - 4s 9ms/step - loss: 0.1286 - accuracy: 0.9559 - val_loss: 0.1258 - val_accuracy: 0.9515\n",
            "Epoch 93/100\n",
            "498/498 [==============================] - 6s 11ms/step - loss: 0.1086 - accuracy: 0.9621 - val_loss: 0.1694 - val_accuracy: 0.9420\n",
            "Epoch 94/100\n",
            "498/498 [==============================] - 4s 8ms/step - loss: 0.0792 - accuracy: 0.9716 - val_loss: 0.1866 - val_accuracy: 0.9510\n",
            "Epoch 95/100\n",
            "498/498 [==============================] - 4s 9ms/step - loss: 0.0735 - accuracy: 0.9721 - val_loss: 0.1290 - val_accuracy: 0.9611\n",
            "Epoch 96/100\n",
            "498/498 [==============================] - 5s 11ms/step - loss: 0.0716 - accuracy: 0.9736 - val_loss: 0.1039 - val_accuracy: 0.9658\n",
            "Epoch 97/100\n",
            "498/498 [==============================] - 4s 8ms/step - loss: 0.0983 - accuracy: 0.9664 - val_loss: 0.1474 - val_accuracy: 0.9525\n",
            "Epoch 98/100\n",
            "498/498 [==============================] - 5s 11ms/step - loss: 0.0815 - accuracy: 0.9707 - val_loss: 0.1058 - val_accuracy: 0.9646\n",
            "Epoch 99/100\n",
            "498/498 [==============================] - 5s 11ms/step - loss: 0.0692 - accuracy: 0.9748 - val_loss: 0.1392 - val_accuracy: 0.9578\n",
            "Epoch 100/100\n",
            "498/498 [==============================] - 4s 8ms/step - loss: 0.0791 - accuracy: 0.9723 - val_loss: 0.1230 - val_accuracy: 0.9591\n"
          ]
        }
      ]
    },
    {
      "cell_type": "code",
      "source": [
        "import os\n",
        "print (os.cpu_count())"
      ],
      "metadata": {
        "colab": {
          "base_uri": "https://localhost:8080/"
        },
        "id": "cOMYuR_TzafF",
        "outputId": "0842dc46-b615-442b-843b-c3945970c9dd"
      },
      "execution_count": null,
      "outputs": [
        {
          "output_type": "stream",
          "name": "stdout",
          "text": [
            "2\n"
          ]
        }
      ]
    },
    {
      "cell_type": "code",
      "source": [
        "#final accuracy of the model\n",
        "test_loss, test_accuracy = model.evaluate(X_test, y_test, verbose=0)\n",
        "print(f'Test accuracy: {test_accuracy:.4f}')"
      ],
      "metadata": {
        "colab": {
          "base_uri": "https://localhost:8080/"
        },
        "id": "AE61D95iJ45r",
        "outputId": "15243416-a0b5-41ea-e165-bcad1255019a"
      },
      "execution_count": null,
      "outputs": [
        {
          "output_type": "stream",
          "name": "stdout",
          "text": [
            "Test accuracy: 0.9591\n"
          ]
        }
      ]
    }
  ]
}